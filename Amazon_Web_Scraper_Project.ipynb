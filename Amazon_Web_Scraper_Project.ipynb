{
  "nbformat": 4,
  "nbformat_minor": 0,
  "metadata": {
    "colab": {
      "provenance": [],
      "authorship_tag": "ABX9TyO4m3NkOVtaks2TXsE06JZa",
      "include_colab_link": true
    },
    "kernelspec": {
      "name": "python3",
      "display_name": "Python 3"
    },
    "language_info": {
      "name": "python"
    }
  },
  "cells": [
    {
      "cell_type": "markdown",
      "metadata": {
        "id": "view-in-github",
        "colab_type": "text"
      },
      "source": [
        "<a href=\"https://colab.research.google.com/github/oseghr/Python-3/blob/master/Amazon_Web_Scraper_Project.ipynb\" target=\"_parent\"><img src=\"https://colab.research.google.com/assets/colab-badge.svg\" alt=\"Open In Colab\"/></a>"
      ]
    },
    {
      "cell_type": "code",
      "execution_count": 5,
      "metadata": {
        "id": "qoLtbRtcmrxA"
      },
      "outputs": [],
      "source": [
        "# import required libraries\n",
        "from bs4 import BeautifulSoup\n",
        "import requests\n",
        "# import smtplib\n",
        "import csv\n",
        "import time\n",
        "import datetime\n",
        "import pandas as pd"
      ]
    },
    {
      "cell_type": "code",
      "source": [
        "# connect to the source website\n",
        "# provide infromation about your system\n",
        "\n",
        "URL = 'https://www.walmart.ca/en/ip/Acer-Chromebook-311-Laptop-11-6-inch-HD-MediaTek-MTK8183C-4GB-64GB-Chrome-OS-Refurbished-Good/3CZ9DSON8RGW?athcpid=3CZ9DSON8RGW&athpgid=ContentPage&athcgid=null&athznid=ItemCarousel_9e9870dc-4c85-4b85-8b8b-dfb700b6ebc8_items&athieid=v0&athstid=CS020&athguid=23bySSTAONaLIoGTCWimOJZ2on6zL62ayWeK&athancid=null&athena=true&athbdg=L1700'\n",
        "# headers = {\"User-Agent\": \"Mozilla/5.0 (Windows NT 10.0; Win64; x6\"}\n",
        "headers = {\"User-Agent\":\"Mozilla/5.0 (Macintosh; Intel Mac OS X 10.15; rv:136.0) Gecko/20100101 Firefox/136.0\"}\n",
        "\n",
        "# get the webpage and assign it to variable page.\n",
        "page = requests.get(URL, headers=headers)\n",
        "\n",
        "# pull the content from the page\n",
        "soup = BeautifulSoup(page.content, \"html.parser\")\n",
        "# print(soup)    #DEBUG\n",
        "\n",
        "# make the format better using prettify\n",
        "soup1 = BeautifulSoup(soup.prettify(), \"html.parser\")\n",
        "# print(soup1)    #DEBUG\n",
        "\n",
        "# get the product page title and price\n",
        "title = soup1.find(id='main-title').get_text()\n",
        "\n",
        "title = title.strip()\n",
        "print(title)    #DEBUG\n",
        "\n",
        "\n",
        "price = soup1.find('span', attrs={\"aria-hidden\": \"false\"}).get_text()\n",
        "price = price.strip()[5:]\n",
        "print(price)    #DEBUG\n",
        "\n",
        "today = datetime.date.today()\n",
        "print(today)    #DEBUG\n",
        "\n",
        "\n",
        "\n"
      ],
      "metadata": {
        "colab": {
          "base_uri": "https://localhost:8080/"
        },
        "id": "x6F7EnAinRpq",
        "outputId": "05d3a717-ab5d-48d8-8d45-a79fadbc4a1b"
      },
      "execution_count": 6,
      "outputs": [
        {
          "output_type": "stream",
          "name": "stdout",
          "text": [
            "Acer Chromebook 311 Laptop 11.6 inch HD MediaTek MTK8183C 4GB 64GB Chrome OS Refurbished Good\n",
            "149.00\n",
            "2025-03-29\n"
          ]
        }
      ]
    },
    {
      "cell_type": "code",
      "source": [
        "#create a csv file and insert the data into the file created\n",
        "header = ['Title', 'Price', 'Date']\n",
        "data = [title, price, today]\n",
        "\n",
        "with open('WalmartWebScraperDataset.csv', 'w', newline='', encoding='UTF8') as f:\n",
        "    writer = csv.writer(f)\n",
        "    writer.writerow(header)\n",
        "    writer.writerow(data)\n"
      ],
      "metadata": {
        "id": "jeIQUK_ZuoyE"
      },
      "execution_count": 7,
      "outputs": []
    },
    {
      "cell_type": "code",
      "source": [
        "# read the data from the text file\n",
        "pdf = pd.read_csv('WalmartWebScraperDataset.csv')\n",
        "\n",
        "print(pdf)\n",
        "\n"
      ],
      "metadata": {
        "colab": {
          "base_uri": "https://localhost:8080/"
        },
        "id": "DIeXJSaw4Z7U",
        "outputId": "08a37b4f-198f-4574-c753-087705ba6571"
      },
      "execution_count": 8,
      "outputs": [
        {
          "output_type": "stream",
          "name": "stdout",
          "text": [
            "                                               Title  Price        Date\n",
            "0  Acer Chromebook 311 Laptop 11.6 inch HD MediaT...  149.0  2025-03-29\n"
          ]
        }
      ]
    },
    {
      "cell_type": "code",
      "source": [
        "# adding more data to the file\n",
        "with open('WalmartWebScraperDataset.csv', 'a+', newline='', encoding='UTF8') as f:\n",
        "    writer = csv.writer(f)\n",
        "    writer.writerow(data)"
      ],
      "metadata": {
        "id": "uQ7z2Fic5ti-"
      },
      "execution_count": 9,
      "outputs": []
    },
    {
      "cell_type": "code",
      "source": [
        "# create a function that checks price on intervals\n",
        "def check_price():\n",
        "  URL = 'https://www.walmart.ca/en/ip/Acer-Chromebook-311-Laptop-11-6-inch-HD-MediaTek-MTK8183C-4GB-64GB-Chrome-OS-Refurbished-Good/3CZ9DSON8RGW?athcpid=3CZ9DSON8RGW&athpgid=ContentPage&athcgid=null&athznid=ItemCarousel_9e9870dc-4c85-4b85-8b8b-dfb700b6ebc8_items&athieid=v0&athstid=CS020&athguid=23bySSTAONaLIoGTCWimOJZ2on6zL62ayWeK&athancid=null&athena=true&athbdg=L1700'\n",
        "\n",
        "  headers = {\"User-Agent\":\"Mozilla/5.0 (Macintosh; Intel Mac OS X 10.15; rv:136.0) Gecko/20100101 Firefox/136.0\"}\n",
        "\n",
        "  # get the webpage and assign it to variable page.\n",
        "  page = requests.get(URL, headers=headers)\n",
        "\n",
        "  # pull the content from the page\n",
        "  soup = BeautifulSoup(page.content, \"html.parser\")\n",
        "\n",
        "  # make the format better using prettify\n",
        "  soup1 = BeautifulSoup(soup.prettify(), \"html.parser\")\n",
        "\n",
        "  # get the product page title and price\n",
        "  title = soup1.find(id='main-title').get_text()\n",
        "  title = title.strip()\n",
        "\n",
        "  price = soup1.find('span', attrs={\"aria-hidden\": \"false\"}).get_text()\n",
        "  price = price.strip()[5:]\n",
        "\n",
        "  today = datetime.date.today()\n",
        "\n",
        "  header = ['Title', 'Price', 'Date']\n",
        "  data = [title, price, today]\n",
        "\n",
        "  with open('WalmartWebScraperDataset.csv', 'a+', newline='', encoding='UTF8') as f:\n",
        "      writer = csv.writer(f)\n",
        "      writer.writerow(data)\n",
        "\n",
        "\n",
        ""
      ],
      "metadata": {
        "id": "gCM4uxMV57yf"
      },
      "execution_count": 10,
      "outputs": []
    },
    {
      "cell_type": "code",
      "source": [
        "# while(True):\n",
        "#   check_price()\n",
        "#   time.sleep(5)"
      ],
      "metadata": {
        "id": "8B8pefzl7g36"
      },
      "execution_count": 13,
      "outputs": []
    },
    {
      "cell_type": "code",
      "source": [
        "pdf = pd.read_csv('WalmartWebScraperDataset.csv')\n",
        "\n",
        "print(pdf)"
      ],
      "metadata": {
        "colab": {
          "base_uri": "https://localhost:8080/"
        },
        "id": "76ud1OKd74Iw",
        "outputId": "40b64b4f-97dd-4668-cc22-9acf77d7efcb"
      },
      "execution_count": 14,
      "outputs": [
        {
          "output_type": "stream",
          "name": "stdout",
          "text": [
            "                                               Title  Price        Date\n",
            "0  Acer Chromebook 311 Laptop 11.6 inch HD MediaT...  149.0  2025-03-29\n",
            "1  Acer Chromebook 311 Laptop 11.6 inch HD MediaT...  149.0  2025-03-29\n",
            "2  Acer Chromebook 311 Laptop 11.6 inch HD MediaT...  149.0  2025-03-29\n",
            "3  Acer Chromebook 311 Laptop 11.6 inch HD MediaT...  149.0  2025-03-29\n"
          ]
        }
      ]
    },
    {
      "cell_type": "code",
      "source": [],
      "metadata": {
        "id": "5GUsTWW48iQ2"
      },
      "execution_count": null,
      "outputs": []
    }
  ]
}